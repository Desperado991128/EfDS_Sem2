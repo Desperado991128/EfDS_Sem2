{
 "cells": [
  {
   "cell_type": "code",
   "execution_count": 1,
   "metadata": {
    "collapsed": false
   },
   "outputs": [],
   "source": [
    "import pandas as pd\n",
    "import numpy as np\n",
    "from numpy.random import default_rng\n",
    "rng = default_rng()"
   ]
  },
  {
   "cell_type": "markdown",
   "metadata": {
    "collapsed": false
   },
   "source": [
    "## Series"
   ]
  },
  {
   "cell_type": "markdown",
   "metadata": {
    "collapsed": false
   },
   "source": [
    "Given the Series below:"
   ]
  },
  {
   "cell_type": "code",
   "execution_count": 3,
   "metadata": {
    "collapsed": false
   },
   "outputs": [
    {
     "data": {
      "text/plain": [
       "a    0\n",
       "b    1\n",
       "c    2\n",
       "d    3\n",
       "e    4\n",
       "dtype: int64"
      ]
     },
     "execution_count": 3,
     "metadata": {},
     "output_type": "execute_result"
    }
   ],
   "source": [
    "s = pd.Series(np.arange(5),index=list(\"abcde\"))\n",
    "s"
   ]
  },
  {
   "cell_type": "markdown",
   "metadata": {
    "collapsed": false
   },
   "source": [
    "without entering the statements:\n",
    "\n",
    "- predict the values and the type of object returned for each statement:"
   ]
  },
  {
   "cell_type": "code",
   "execution_count": 4,
   "metadata": {
    "collapsed": false
   },
   "outputs": [
    {
     "data": {
      "text/plain": [
       "b    1\n",
       "a    0\n",
       "dtype: int64"
      ]
     },
     "execution_count": 4,
     "metadata": {},
     "output_type": "execute_result"
    }
   ],
   "source": [
    "s['d']        # 4, type int\n",
    "s['b':'d']    # 1, 2, 3, type int\n",
    "s[2::2][::-1] # 4, 2, type int\n",
    "s[['b', 'a']] # 1, 0, type int"
   ]
  },
  {
   "cell_type": "markdown",
   "metadata": {
    "collapsed": false
   },
   "source": [
    "- predict the contents of `s`, `s1` and `lst`:"
   ]
  },
  {
   "cell_type": "code",
   "execution_count": 9,
   "metadata": {
    "collapsed": false
   },
   "outputs": [
    {
     "data": {
      "text/plain": [
       "a    0\n",
       "b    1\n",
       "c    2\n",
       "d    3\n",
       "e    4\n",
       "dtype: int64"
      ]
     },
     "execution_count": 9,
     "metadata": {},
     "output_type": "execute_result"
    }
   ],
   "source": [
    "lst, idx = np.arange(5), list(\"abcde\")\n",
    "s = pd.Series(lst,idx)\n",
    "s\n",
    "# s[-1:] = 10               # [0, 1, 2, 3, 10], type int\n",
    "# lst[0] = 5                # [5, 1, 2, 3, 4], type int\n",
    "# s1 = pd.Series(s.copy())  # [5, 1, 2, 3, 4], type int\n",
    "# s1[0] = -1                # [5, 1, 2, 3, 4], type int"
   ]
  },
  {
   "cell_type": "markdown",
   "metadata": {
    "collapsed": false
   },
   "source": [
    "- predict the result of the operations"
   ]
  },
  {
   "cell_type": "code",
   "execution_count": 18,
   "metadata": {
    "collapsed": false
   },
   "outputs": [
    {
     "name": "stdout",
     "output_type": "stream",
     "text": [
      "a    0\n",
      "b    1\n",
      "c    2\n",
      "d    3\n",
      "e    4\n",
      "dtype: int64\n",
      "d    0\n",
      "e    1\n",
      "f    2\n",
      "g    3\n",
      "dtype: int64\n"
     ]
    },
    {
     "data": {
      "text/plain": [
       "d    0\n",
       "e    4\n",
       "dtype: int64"
      ]
     },
     "execution_count": 18,
     "metadata": {},
     "output_type": "execute_result"
    }
   ],
   "source": [
    "s1 = pd.Series({'a': 0, 'b': 1, 'c': 2, 'd': 3, 'e': 4})\n",
    "s2 = pd.Series({'d': 0, 'e': 1, 'f': 2, 'g': 3})\n",
    "print(s1)\n",
    "print(s2)\n",
    "\n",
    "s1 + s2           # NaN, NaN, NaN, 3, 5, NaN, NaN, type float\n",
    "s1[3:] * s2[:-2]  # 0, 4, type int\n"
   ]
  },
  {
   "cell_type": "markdown",
   "metadata": {
    "collapsed": false
   },
   "source": [
    "## DataFrame"
   ]
  },
  {
   "cell_type": "markdown",
   "metadata": {
    "collapsed": false
   },
   "source": [
    "Given the DataFrame `df` below:"
   ]
  },
  {
   "cell_type": "code",
   "execution_count": 20,
   "metadata": {
    "collapsed": false
   },
   "outputs": [
    {
     "data": {
      "text/html": [
       "<div>\n",
       "<style scoped>\n",
       "    .dataframe tbody tr th:only-of-type {\n",
       "        vertical-align: middle;\n",
       "    }\n",
       "\n",
       "    .dataframe tbody tr th {\n",
       "        vertical-align: top;\n",
       "    }\n",
       "\n",
       "    .dataframe thead th {\n",
       "        text-align: right;\n",
       "    }\n",
       "</style>\n",
       "<table border=\"1\" class=\"dataframe\">\n",
       "  <thead>\n",
       "    <tr style=\"text-align: right;\">\n",
       "      <th></th>\n",
       "      <th>a</th>\n",
       "      <th>b</th>\n",
       "      <th>c</th>\n",
       "      <th>d</th>\n",
       "      <th>e</th>\n",
       "    </tr>\n",
       "  </thead>\n",
       "  <tbody>\n",
       "    <tr>\n",
       "      <th>1</th>\n",
       "      <td>-1.603837</td>\n",
       "      <td>0.064100</td>\n",
       "      <td>0.740891</td>\n",
       "      <td>0.152619</td>\n",
       "      <td>0.863744</td>\n",
       "    </tr>\n",
       "    <tr>\n",
       "      <th>0</th>\n",
       "      <td>2.913099</td>\n",
       "      <td>-1.478823</td>\n",
       "      <td>0.945473</td>\n",
       "      <td>-1.666135</td>\n",
       "      <td>0.343745</td>\n",
       "    </tr>\n",
       "    <tr>\n",
       "      <th>4</th>\n",
       "      <td>-0.512444</td>\n",
       "      <td>1.323759</td>\n",
       "      <td>-0.860280</td>\n",
       "      <td>0.519493</td>\n",
       "      <td>-1.265144</td>\n",
       "    </tr>\n",
       "    <tr>\n",
       "      <th>3</th>\n",
       "      <td>-2.159139</td>\n",
       "      <td>0.434734</td>\n",
       "      <td>1.733289</td>\n",
       "      <td>0.520134</td>\n",
       "      <td>-1.002166</td>\n",
       "    </tr>\n",
       "    <tr>\n",
       "      <th>2</th>\n",
       "      <td>0.268346</td>\n",
       "      <td>0.767175</td>\n",
       "      <td>1.191272</td>\n",
       "      <td>-1.157411</td>\n",
       "      <td>0.696279</td>\n",
       "    </tr>\n",
       "  </tbody>\n",
       "</table>\n",
       "</div>"
      ],
      "text/plain": [
       "          a         b         c         d         e\n",
       "1 -1.603837  0.064100  0.740891  0.152619  0.863744\n",
       "0  2.913099 -1.478823  0.945473 -1.666135  0.343745\n",
       "4 -0.512444  1.323759 -0.860280  0.519493 -1.265144\n",
       "3 -2.159139  0.434734  1.733289  0.520134 -1.002166\n",
       "2  0.268346  0.767175  1.191272 -1.157411  0.696279"
      ]
     },
     "execution_count": 20,
     "metadata": {},
     "output_type": "execute_result"
    }
   ],
   "source": [
    "rng = default_rng(1234)\n",
    "df = pd.DataFrame(np.array(rng.standard_normal(25)).reshape(5,5),\n",
    "             index=[1, 0, 4, 3, 2], columns=list(\"abcde\"))\n",
    "df"
   ]
  },
  {
   "cell_type": "markdown",
   "metadata": {
    "collapsed": false
   },
   "source": [
    "retrieve:\n",
    "- 2nd row as a Series\n",
    "- 3rd row as a DataFrame\n",
    "- rows on even positions\n",
    "- rows with even indices\n",
    "- 3d column\n",
    "- odd (index) rows and columns 'b' to 'd'"
   ]
  },
  {
   "cell_type": "code",
   "execution_count": 22,
   "metadata": {
    "collapsed": false
   },
   "outputs": [
    {
     "name": "stdout",
     "output_type": "stream",
     "text": [
      "a    2.913099\n",
      "b   -1.478823\n",
      "c    0.945473\n",
      "d   -1.666135\n",
      "e    0.343745\n",
      "Name: 0, dtype: float64\n",
      "          a         b        c         d         e\n",
      "4 -0.512444  1.323759 -0.86028  0.519493 -1.265144\n",
      "          a         b         c         d         e\n",
      "1 -1.603837  0.064100  0.740891  0.152619  0.863744\n",
      "4 -0.512444  1.323759 -0.860280  0.519493 -1.265144\n",
      "2  0.268346  0.767175  1.191272 -1.157411  0.696279\n",
      "          a         b         c         d         e\n",
      "0  2.913099 -1.478823  0.945473 -1.666135  0.343745\n",
      "4 -0.512444  1.323759 -0.860280  0.519493 -1.265144\n",
      "2  0.268346  0.767175  1.191272 -1.157411  0.696279\n",
      "1    0.740891\n",
      "0    0.945473\n",
      "4   -0.860280\n",
      "3    1.733289\n",
      "2    1.191272\n",
      "Name: c, dtype: float64\n"
     ]
    },
    {
     "data": {
      "text/html": [
       "<div>\n",
       "<style scoped>\n",
       "    .dataframe tbody tr th:only-of-type {\n",
       "        vertical-align: middle;\n",
       "    }\n",
       "\n",
       "    .dataframe tbody tr th {\n",
       "        vertical-align: top;\n",
       "    }\n",
       "\n",
       "    .dataframe thead th {\n",
       "        text-align: right;\n",
       "    }\n",
       "</style>\n",
       "<table border=\"1\" class=\"dataframe\">\n",
       "  <thead>\n",
       "    <tr style=\"text-align: right;\">\n",
       "      <th></th>\n",
       "      <th>b</th>\n",
       "      <th>c</th>\n",
       "      <th>d</th>\n",
       "    </tr>\n",
       "  </thead>\n",
       "  <tbody>\n",
       "    <tr>\n",
       "      <th>1</th>\n",
       "      <td>0.064100</td>\n",
       "      <td>0.740891</td>\n",
       "      <td>0.152619</td>\n",
       "    </tr>\n",
       "    <tr>\n",
       "      <th>3</th>\n",
       "      <td>0.434734</td>\n",
       "      <td>1.733289</td>\n",
       "      <td>0.520134</td>\n",
       "    </tr>\n",
       "  </tbody>\n",
       "</table>\n",
       "</div>"
      ],
      "text/plain": [
       "          b         c         d\n",
       "1  0.064100  0.740891  0.152619\n",
       "3  0.434734  1.733289  0.520134"
      ]
     },
     "execution_count": 22,
     "metadata": {},
     "output_type": "execute_result"
    }
   ],
   "source": [
    "# 2nd row as a Series\n",
    "print(df.iloc[1])\n",
    "\n",
    "# 3rd row as a DataFrame\n",
    "print(df.iloc[2:3])\n",
    "\n",
    "# rows on even positions\n",
    "print(df.iloc[::2])\n",
    "\n",
    "# rows with even indices\n",
    "print(df.loc[df.index % 2 == 0])\n",
    "\n",
    "# 3d column\n",
    "print(df.iloc[:, 2])\n",
    "\n",
    "# odd (index) rows and columns 'b' to 'd'\n",
    "df.loc[df.index % 2 == 1, 'b':'d']\n"
   ]
  },
  {
   "cell_type": "markdown",
   "metadata": {
    "collapsed": false
   },
   "source": [
    "### Merge DataFrames\n",
    "\n",
    "Given `df1`, `df2` and `df3` apply the following:\n",
    "\n",
    "- merge df1 and df2 side by side\n",
    "- merge df1 and df3 stacked\n",
    "- merge all and reset index"
   ]
  },
  {
   "cell_type": "code",
   "execution_count": 23,
   "metadata": {
    "collapsed": false
   },
   "outputs": [],
   "source": [
    "df1 = pd.DataFrame({'name': ['ants', 'bees','wasps'] , 'order':['Hymenoptera']*3})\n",
    "df2 = pd.DataFrame({'name': ['beetles', 'weevils'] , 'order':['Coleoptera']*2})\n",
    "df3 = pd.DataFrame({'name': ['butterflies', 'moths'], 'order':['Lepidoptera']*2 })"
   ]
  },
  {
   "cell_type": "code",
   "execution_count": 24,
   "metadata": {},
   "outputs": [
    {
     "data": {
      "text/html": [
       "<div>\n",
       "<style scoped>\n",
       "    .dataframe tbody tr th:only-of-type {\n",
       "        vertical-align: middle;\n",
       "    }\n",
       "\n",
       "    .dataframe tbody tr th {\n",
       "        vertical-align: top;\n",
       "    }\n",
       "\n",
       "    .dataframe thead th {\n",
       "        text-align: right;\n",
       "    }\n",
       "</style>\n",
       "<table border=\"1\" class=\"dataframe\">\n",
       "  <thead>\n",
       "    <tr style=\"text-align: right;\">\n",
       "      <th></th>\n",
       "      <th>name</th>\n",
       "      <th>order</th>\n",
       "    </tr>\n",
       "  </thead>\n",
       "  <tbody>\n",
       "    <tr>\n",
       "      <th>0</th>\n",
       "      <td>ants</td>\n",
       "      <td>Hymenoptera</td>\n",
       "    </tr>\n",
       "    <tr>\n",
       "      <th>1</th>\n",
       "      <td>bees</td>\n",
       "      <td>Hymenoptera</td>\n",
       "    </tr>\n",
       "    <tr>\n",
       "      <th>2</th>\n",
       "      <td>wasps</td>\n",
       "      <td>Hymenoptera</td>\n",
       "    </tr>\n",
       "  </tbody>\n",
       "</table>\n",
       "</div>"
      ],
      "text/plain": [
       "    name        order\n",
       "0   ants  Hymenoptera\n",
       "1   bees  Hymenoptera\n",
       "2  wasps  Hymenoptera"
      ]
     },
     "execution_count": 24,
     "metadata": {},
     "output_type": "execute_result"
    }
   ],
   "source": [
    "df1"
   ]
  },
  {
   "cell_type": "code",
   "execution_count": 25,
   "metadata": {},
   "outputs": [
    {
     "data": {
      "text/html": [
       "<div>\n",
       "<style scoped>\n",
       "    .dataframe tbody tr th:only-of-type {\n",
       "        vertical-align: middle;\n",
       "    }\n",
       "\n",
       "    .dataframe tbody tr th {\n",
       "        vertical-align: top;\n",
       "    }\n",
       "\n",
       "    .dataframe thead th {\n",
       "        text-align: right;\n",
       "    }\n",
       "</style>\n",
       "<table border=\"1\" class=\"dataframe\">\n",
       "  <thead>\n",
       "    <tr style=\"text-align: right;\">\n",
       "      <th></th>\n",
       "      <th>name</th>\n",
       "      <th>order</th>\n",
       "    </tr>\n",
       "  </thead>\n",
       "  <tbody>\n",
       "    <tr>\n",
       "      <th>0</th>\n",
       "      <td>beetles</td>\n",
       "      <td>Coleoptera</td>\n",
       "    </tr>\n",
       "    <tr>\n",
       "      <th>1</th>\n",
       "      <td>weevils</td>\n",
       "      <td>Coleoptera</td>\n",
       "    </tr>\n",
       "  </tbody>\n",
       "</table>\n",
       "</div>"
      ],
      "text/plain": [
       "      name       order\n",
       "0  beetles  Coleoptera\n",
       "1  weevils  Coleoptera"
      ]
     },
     "execution_count": 25,
     "metadata": {},
     "output_type": "execute_result"
    }
   ],
   "source": [
    "df2"
   ]
  },
  {
   "cell_type": "code",
   "execution_count": 26,
   "metadata": {},
   "outputs": [
    {
     "data": {
      "text/html": [
       "<div>\n",
       "<style scoped>\n",
       "    .dataframe tbody tr th:only-of-type {\n",
       "        vertical-align: middle;\n",
       "    }\n",
       "\n",
       "    .dataframe tbody tr th {\n",
       "        vertical-align: top;\n",
       "    }\n",
       "\n",
       "    .dataframe thead th {\n",
       "        text-align: right;\n",
       "    }\n",
       "</style>\n",
       "<table border=\"1\" class=\"dataframe\">\n",
       "  <thead>\n",
       "    <tr style=\"text-align: right;\">\n",
       "      <th></th>\n",
       "      <th>name</th>\n",
       "      <th>order</th>\n",
       "    </tr>\n",
       "  </thead>\n",
       "  <tbody>\n",
       "    <tr>\n",
       "      <th>0</th>\n",
       "      <td>butterflies</td>\n",
       "      <td>Lepidoptera</td>\n",
       "    </tr>\n",
       "    <tr>\n",
       "      <th>1</th>\n",
       "      <td>moths</td>\n",
       "      <td>Lepidoptera</td>\n",
       "    </tr>\n",
       "  </tbody>\n",
       "</table>\n",
       "</div>"
      ],
      "text/plain": [
       "          name        order\n",
       "0  butterflies  Lepidoptera\n",
       "1        moths  Lepidoptera"
      ]
     },
     "execution_count": 26,
     "metadata": {},
     "output_type": "execute_result"
    }
   ],
   "source": [
    "df3"
   ]
  },
  {
   "cell_type": "code",
   "execution_count": 27,
   "metadata": {
    "collapsed": false,
    "pycharm": {
     "is_executing": true
    }
   },
   "outputs": [
    {
     "data": {
      "text/html": [
       "<div>\n",
       "<style scoped>\n",
       "    .dataframe tbody tr th:only-of-type {\n",
       "        vertical-align: middle;\n",
       "    }\n",
       "\n",
       "    .dataframe tbody tr th {\n",
       "        vertical-align: top;\n",
       "    }\n",
       "\n",
       "    .dataframe thead th {\n",
       "        text-align: right;\n",
       "    }\n",
       "</style>\n",
       "<table border=\"1\" class=\"dataframe\">\n",
       "  <thead>\n",
       "    <tr style=\"text-align: right;\">\n",
       "      <th></th>\n",
       "      <th>name</th>\n",
       "      <th>order</th>\n",
       "      <th>name</th>\n",
       "      <th>order</th>\n",
       "    </tr>\n",
       "  </thead>\n",
       "  <tbody>\n",
       "    <tr>\n",
       "      <th>0</th>\n",
       "      <td>ants</td>\n",
       "      <td>Hymenoptera</td>\n",
       "      <td>beetles</td>\n",
       "      <td>Coleoptera</td>\n",
       "    </tr>\n",
       "    <tr>\n",
       "      <th>1</th>\n",
       "      <td>bees</td>\n",
       "      <td>Hymenoptera</td>\n",
       "      <td>weevils</td>\n",
       "      <td>Coleoptera</td>\n",
       "    </tr>\n",
       "    <tr>\n",
       "      <th>2</th>\n",
       "      <td>wasps</td>\n",
       "      <td>Hymenoptera</td>\n",
       "      <td>NaN</td>\n",
       "      <td>NaN</td>\n",
       "    </tr>\n",
       "  </tbody>\n",
       "</table>\n",
       "</div>"
      ],
      "text/plain": [
       "    name        order     name       order\n",
       "0   ants  Hymenoptera  beetles  Coleoptera\n",
       "1   bees  Hymenoptera  weevils  Coleoptera\n",
       "2  wasps  Hymenoptera      NaN         NaN"
      ]
     },
     "execution_count": 27,
     "metadata": {},
     "output_type": "execute_result"
    }
   ],
   "source": [
    "# merge df1 and df2 side by side\n",
    "pd.concat([df1, df2], axis=1)"
   ]
  },
  {
   "cell_type": "code",
   "execution_count": 28,
   "metadata": {},
   "outputs": [
    {
     "data": {
      "text/html": [
       "<div>\n",
       "<style scoped>\n",
       "    .dataframe tbody tr th:only-of-type {\n",
       "        vertical-align: middle;\n",
       "    }\n",
       "\n",
       "    .dataframe tbody tr th {\n",
       "        vertical-align: top;\n",
       "    }\n",
       "\n",
       "    .dataframe thead th {\n",
       "        text-align: right;\n",
       "    }\n",
       "</style>\n",
       "<table border=\"1\" class=\"dataframe\">\n",
       "  <thead>\n",
       "    <tr style=\"text-align: right;\">\n",
       "      <th></th>\n",
       "      <th>name</th>\n",
       "      <th>order</th>\n",
       "    </tr>\n",
       "  </thead>\n",
       "  <tbody>\n",
       "    <tr>\n",
       "      <th>0</th>\n",
       "      <td>ants</td>\n",
       "      <td>Hymenoptera</td>\n",
       "    </tr>\n",
       "    <tr>\n",
       "      <th>1</th>\n",
       "      <td>bees</td>\n",
       "      <td>Hymenoptera</td>\n",
       "    </tr>\n",
       "    <tr>\n",
       "      <th>2</th>\n",
       "      <td>wasps</td>\n",
       "      <td>Hymenoptera</td>\n",
       "    </tr>\n",
       "    <tr>\n",
       "      <th>0</th>\n",
       "      <td>butterflies</td>\n",
       "      <td>Lepidoptera</td>\n",
       "    </tr>\n",
       "    <tr>\n",
       "      <th>1</th>\n",
       "      <td>moths</td>\n",
       "      <td>Lepidoptera</td>\n",
       "    </tr>\n",
       "  </tbody>\n",
       "</table>\n",
       "</div>"
      ],
      "text/plain": [
       "          name        order\n",
       "0         ants  Hymenoptera\n",
       "1         bees  Hymenoptera\n",
       "2        wasps  Hymenoptera\n",
       "0  butterflies  Lepidoptera\n",
       "1        moths  Lepidoptera"
      ]
     },
     "execution_count": 28,
     "metadata": {},
     "output_type": "execute_result"
    }
   ],
   "source": [
    "# merge df1 and df3 stacked\n",
    "pd.concat([df1, df3])"
   ]
  },
  {
   "cell_type": "code",
   "execution_count": 29,
   "metadata": {},
   "outputs": [
    {
     "data": {
      "text/html": [
       "<div>\n",
       "<style scoped>\n",
       "    .dataframe tbody tr th:only-of-type {\n",
       "        vertical-align: middle;\n",
       "    }\n",
       "\n",
       "    .dataframe tbody tr th {\n",
       "        vertical-align: top;\n",
       "    }\n",
       "\n",
       "    .dataframe thead th {\n",
       "        text-align: right;\n",
       "    }\n",
       "</style>\n",
       "<table border=\"1\" class=\"dataframe\">\n",
       "  <thead>\n",
       "    <tr style=\"text-align: right;\">\n",
       "      <th></th>\n",
       "      <th>name</th>\n",
       "      <th>order</th>\n",
       "    </tr>\n",
       "  </thead>\n",
       "  <tbody>\n",
       "    <tr>\n",
       "      <th>0</th>\n",
       "      <td>ants</td>\n",
       "      <td>Hymenoptera</td>\n",
       "    </tr>\n",
       "    <tr>\n",
       "      <th>1</th>\n",
       "      <td>bees</td>\n",
       "      <td>Hymenoptera</td>\n",
       "    </tr>\n",
       "    <tr>\n",
       "      <th>2</th>\n",
       "      <td>wasps</td>\n",
       "      <td>Hymenoptera</td>\n",
       "    </tr>\n",
       "    <tr>\n",
       "      <th>3</th>\n",
       "      <td>beetles</td>\n",
       "      <td>Coleoptera</td>\n",
       "    </tr>\n",
       "    <tr>\n",
       "      <th>4</th>\n",
       "      <td>weevils</td>\n",
       "      <td>Coleoptera</td>\n",
       "    </tr>\n",
       "    <tr>\n",
       "      <th>5</th>\n",
       "      <td>butterflies</td>\n",
       "      <td>Lepidoptera</td>\n",
       "    </tr>\n",
       "    <tr>\n",
       "      <th>6</th>\n",
       "      <td>moths</td>\n",
       "      <td>Lepidoptera</td>\n",
       "    </tr>\n",
       "  </tbody>\n",
       "</table>\n",
       "</div>"
      ],
      "text/plain": [
       "          name        order\n",
       "0         ants  Hymenoptera\n",
       "1         bees  Hymenoptera\n",
       "2        wasps  Hymenoptera\n",
       "3      beetles   Coleoptera\n",
       "4      weevils   Coleoptera\n",
       "5  butterflies  Lepidoptera\n",
       "6        moths  Lepidoptera"
      ]
     },
     "execution_count": 29,
     "metadata": {},
     "output_type": "execute_result"
    }
   ],
   "source": [
    "# merge all and reset index\n",
    "pd.concat([df1, df2, df3], ignore_index=True)"
   ]
  },
  {
   "cell_type": "markdown",
   "metadata": {
    "collapsed": false
   },
   "source": [
    "### Missing values"
   ]
  },
  {
   "cell_type": "markdown",
   "metadata": {
    "collapsed": false
   },
   "source": [
    "Given the following DataFrame"
   ]
  },
  {
   "cell_type": "code",
   "execution_count": 31,
   "metadata": {
    "collapsed": false
   },
   "outputs": [
    {
     "data": {
      "text/html": [
       "<div>\n",
       "<style scoped>\n",
       "    .dataframe tbody tr th:only-of-type {\n",
       "        vertical-align: middle;\n",
       "    }\n",
       "\n",
       "    .dataframe tbody tr th {\n",
       "        vertical-align: top;\n",
       "    }\n",
       "\n",
       "    .dataframe thead th {\n",
       "        text-align: right;\n",
       "    }\n",
       "</style>\n",
       "<table border=\"1\" class=\"dataframe\">\n",
       "  <thead>\n",
       "    <tr style=\"text-align: right;\">\n",
       "      <th></th>\n",
       "      <th>0</th>\n",
       "      <th>1</th>\n",
       "      <th>2</th>\n",
       "      <th>3</th>\n",
       "      <th>4</th>\n",
       "    </tr>\n",
       "  </thead>\n",
       "  <tbody>\n",
       "    <tr>\n",
       "      <th>0</th>\n",
       "      <td>0</td>\n",
       "      <td>1</td>\n",
       "      <td>2</td>\n",
       "      <td>3</td>\n",
       "      <td>4</td>\n",
       "    </tr>\n",
       "    <tr>\n",
       "      <th>1</th>\n",
       "      <td>5</td>\n",
       "      <td>6</td>\n",
       "      <td>7</td>\n",
       "      <td>8</td>\n",
       "      <td>9</td>\n",
       "    </tr>\n",
       "    <tr>\n",
       "      <th>2</th>\n",
       "      <td>10</td>\n",
       "      <td>11</td>\n",
       "      <td>12</td>\n",
       "      <td>13</td>\n",
       "      <td>14</td>\n",
       "    </tr>\n",
       "    <tr>\n",
       "      <th>3</th>\n",
       "      <td>15</td>\n",
       "      <td>16</td>\n",
       "      <td>17</td>\n",
       "      <td>18</td>\n",
       "      <td>19</td>\n",
       "    </tr>\n",
       "    <tr>\n",
       "      <th>4</th>\n",
       "      <td>20</td>\n",
       "      <td>21</td>\n",
       "      <td>22</td>\n",
       "      <td>23</td>\n",
       "      <td>24</td>\n",
       "    </tr>\n",
       "  </tbody>\n",
       "</table>\n",
       "</div>"
      ],
      "text/plain": [
       "    0   1   2   3   4\n",
       "0   0   1   2   3   4\n",
       "1   5   6   7   8   9\n",
       "2  10  11  12  13  14\n",
       "3  15  16  17  18  19\n",
       "4  20  21  22  23  24"
      ]
     },
     "execution_count": 31,
     "metadata": {},
     "output_type": "execute_result"
    }
   ],
   "source": [
    "df = pd.DataFrame(np.arange(25).reshape(5,5))\n",
    "df"
   ]
  },
  {
   "cell_type": "markdown",
   "metadata": {
    "collapsed": false
   },
   "source": [
    "set the values to NaN as such to reproduce the following DataFrame:"
   ]
  },
  {
   "cell_type": "code",
   "execution_count": 33,
   "metadata": {
    "collapsed": false
   },
   "outputs": [],
   "source": [
    "# ... "
   ]
  },
  {
   "cell_type": "markdown",
   "metadata": {
    "collapsed": false
   },
   "source": [
    "Apply the following on the dataframe with missing values created in the previous step.\n",
    "\n",
    "Drop missing:\n",
    "- rows with missing values\n",
    "- columns with missing values\n",
    "- rows where all values are missing\n",
    "- columns where all values are missing\n",
    "\n",
    "Fill missing:\n",
    "- with 0\n",
    "- with mean based on column values\n",
    "- with median based on row values"
   ]
  },
  {
   "cell_type": "code",
   "execution_count": null,
   "metadata": {
    "collapsed": false
   },
   "outputs": [],
   "source": [
    "# ..."
   ]
  },
  {
   "cell_type": "markdown",
   "metadata": {
    "collapsed": false
   },
   "source": [
    "### Natural gas consumption in the Netherlands\n",
    "\n",
    "The dataset can be downloaded from [CBS Open data StatLine](https://opendata.cbs.nl/statline/portal.html?_la=en&_catalog=CBS). A version is already included in the data directory of this session's git repository. We will be using this dataset in the exercises to prepare for visualisation later on in the course.\n",
    "\n",
    "We first read the data with `pd.read_csv`. Here we only select the columns `Periods` and `TotalSupply_1`:"
   ]
  },
  {
   "cell_type": "code",
   "execution_count": 35,
   "metadata": {
    "collapsed": false
   },
   "outputs": [
    {
     "data": {
      "text/html": [
       "<div>\n",
       "<style scoped>\n",
       "    .dataframe tbody tr th:only-of-type {\n",
       "        vertical-align: middle;\n",
       "    }\n",
       "\n",
       "    .dataframe tbody tr th {\n",
       "        vertical-align: top;\n",
       "    }\n",
       "\n",
       "    .dataframe thead th {\n",
       "        text-align: right;\n",
       "    }\n",
       "</style>\n",
       "<table border=\"1\" class=\"dataframe\">\n",
       "  <thead>\n",
       "    <tr style=\"text-align: right;\">\n",
       "      <th></th>\n",
       "      <th>Periods</th>\n",
       "      <th>TotalSupply_1</th>\n",
       "    </tr>\n",
       "  </thead>\n",
       "  <tbody>\n",
       "    <tr>\n",
       "      <th>0</th>\n",
       "      <td>1946JJ00</td>\n",
       "      <td>0</td>\n",
       "    </tr>\n",
       "    <tr>\n",
       "      <th>1</th>\n",
       "      <td>1947JJ00</td>\n",
       "      <td>1</td>\n",
       "    </tr>\n",
       "    <tr>\n",
       "      <th>2</th>\n",
       "      <td>1948JJ00</td>\n",
       "      <td>5</td>\n",
       "    </tr>\n",
       "    <tr>\n",
       "      <th>3</th>\n",
       "      <td>1949JJ00</td>\n",
       "      <td>7</td>\n",
       "    </tr>\n",
       "    <tr>\n",
       "      <th>4</th>\n",
       "      <td>1950JJ00</td>\n",
       "      <td>5</td>\n",
       "    </tr>\n",
       "    <tr>\n",
       "      <th>...</th>\n",
       "      <td>...</td>\n",
       "      <td>...</td>\n",
       "    </tr>\n",
       "    <tr>\n",
       "      <th>730</th>\n",
       "      <td>2022MM12</td>\n",
       "      <td>3812</td>\n",
       "    </tr>\n",
       "    <tr>\n",
       "      <th>731</th>\n",
       "      <td>2022KW04</td>\n",
       "      <td>8521</td>\n",
       "    </tr>\n",
       "    <tr>\n",
       "      <th>732</th>\n",
       "      <td>2022JJ00</td>\n",
       "      <td>31227</td>\n",
       "    </tr>\n",
       "    <tr>\n",
       "      <th>733</th>\n",
       "      <td>2023MM01</td>\n",
       "      <td>3386</td>\n",
       "    </tr>\n",
       "    <tr>\n",
       "      <th>734</th>\n",
       "      <td>2023MM02</td>\n",
       "      <td>3057</td>\n",
       "    </tr>\n",
       "  </tbody>\n",
       "</table>\n",
       "<p>735 rows × 2 columns</p>\n",
       "</div>"
      ],
      "text/plain": [
       "      Periods  TotalSupply_1\n",
       "0    1946JJ00              0\n",
       "1    1947JJ00              1\n",
       "2    1948JJ00              5\n",
       "3    1949JJ00              7\n",
       "4    1950JJ00              5\n",
       "..        ...            ...\n",
       "730  2022MM12           3812\n",
       "731  2022KW04           8521\n",
       "732  2022JJ00          31227\n",
       "733  2023MM01           3386\n",
       "734  2023MM02           3057\n",
       "\n",
       "[735 rows x 2 columns]"
      ]
     },
     "execution_count": 35,
     "metadata": {},
     "output_type": "execute_result"
    }
   ],
   "source": [
    "cbs = pd.read_csv(\"data/00372eng_UntypedDataSet_17032023_161051.csv\",sep=\";\")\n",
    "df0 = cbs[['Periods','TotalSupply_1']].copy()\n",
    "df0"
   ]
  },
  {
   "cell_type": "markdown",
   "metadata": {
    "collapsed": false
   },
   "source": [
    "The column `Periods`has the year (yyyy) followed by a tag {JJ,KW,MM} representing the yearly, quarterly and monthly terms respectively, and finally ending with two digits `00..12`. The two digit followed by the tags have different meaning per tag. For JJ it is always `00`, MM with `00..12` for 12 months and `KW`  with  `01..04` for four quarters. The column `TotaalAanbod_1` holds the natural gas consumption (MCM).\n",
    "\n",
    "In order to get more control over the date ranges we will need to split the string based on the pattern `YYYY{MM,KW,JJ}{00,...,12}`. The Series class has a comprehensive set of submodules, one of which being `pandas.Series.str` with the method `split`. The `split` method takes a [regular expression](https://docs.python.org/3/library/re.html) describing the pattern and  splits the string based on the pattern. Regular expressions fall beyond the scope of this course, therefore the solution is given here for the exercise."
   ]
  },
  {
   "cell_type": "code",
   "execution_count": 36,
   "metadata": {
    "collapsed": false
   },
   "outputs": [
    {
     "data": {
      "text/html": [
       "<div>\n",
       "<style scoped>\n",
       "    .dataframe tbody tr th:only-of-type {\n",
       "        vertical-align: middle;\n",
       "    }\n",
       "\n",
       "    .dataframe tbody tr th {\n",
       "        vertical-align: top;\n",
       "    }\n",
       "\n",
       "    .dataframe thead th {\n",
       "        text-align: right;\n",
       "    }\n",
       "</style>\n",
       "<table border=\"1\" class=\"dataframe\">\n",
       "  <thead>\n",
       "    <tr style=\"text-align: right;\">\n",
       "      <th></th>\n",
       "      <th>year</th>\n",
       "      <th>term</th>\n",
       "      <th>idx</th>\n",
       "      <th>TotalSupply_1</th>\n",
       "    </tr>\n",
       "  </thead>\n",
       "  <tbody>\n",
       "    <tr>\n",
       "      <th>0</th>\n",
       "      <td>1946</td>\n",
       "      <td>JJ</td>\n",
       "      <td>0</td>\n",
       "      <td>0</td>\n",
       "    </tr>\n",
       "    <tr>\n",
       "      <th>1</th>\n",
       "      <td>1947</td>\n",
       "      <td>JJ</td>\n",
       "      <td>0</td>\n",
       "      <td>1</td>\n",
       "    </tr>\n",
       "    <tr>\n",
       "      <th>2</th>\n",
       "      <td>1948</td>\n",
       "      <td>JJ</td>\n",
       "      <td>0</td>\n",
       "      <td>5</td>\n",
       "    </tr>\n",
       "    <tr>\n",
       "      <th>3</th>\n",
       "      <td>1949</td>\n",
       "      <td>JJ</td>\n",
       "      <td>0</td>\n",
       "      <td>7</td>\n",
       "    </tr>\n",
       "    <tr>\n",
       "      <th>4</th>\n",
       "      <td>1950</td>\n",
       "      <td>JJ</td>\n",
       "      <td>0</td>\n",
       "      <td>5</td>\n",
       "    </tr>\n",
       "    <tr>\n",
       "      <th>...</th>\n",
       "      <td>...</td>\n",
       "      <td>...</td>\n",
       "      <td>...</td>\n",
       "      <td>...</td>\n",
       "    </tr>\n",
       "    <tr>\n",
       "      <th>730</th>\n",
       "      <td>2022</td>\n",
       "      <td>MM</td>\n",
       "      <td>12</td>\n",
       "      <td>3812</td>\n",
       "    </tr>\n",
       "    <tr>\n",
       "      <th>731</th>\n",
       "      <td>2022</td>\n",
       "      <td>KW</td>\n",
       "      <td>4</td>\n",
       "      <td>8521</td>\n",
       "    </tr>\n",
       "    <tr>\n",
       "      <th>732</th>\n",
       "      <td>2022</td>\n",
       "      <td>JJ</td>\n",
       "      <td>0</td>\n",
       "      <td>31227</td>\n",
       "    </tr>\n",
       "    <tr>\n",
       "      <th>733</th>\n",
       "      <td>2023</td>\n",
       "      <td>MM</td>\n",
       "      <td>1</td>\n",
       "      <td>3386</td>\n",
       "    </tr>\n",
       "    <tr>\n",
       "      <th>734</th>\n",
       "      <td>2023</td>\n",
       "      <td>MM</td>\n",
       "      <td>2</td>\n",
       "      <td>3057</td>\n",
       "    </tr>\n",
       "  </tbody>\n",
       "</table>\n",
       "<p>735 rows × 4 columns</p>\n",
       "</div>"
      ],
      "text/plain": [
       "     year term  idx  TotalSupply_1\n",
       "0    1946   JJ    0              0\n",
       "1    1947   JJ    0              1\n",
       "2    1948   JJ    0              5\n",
       "3    1949   JJ    0              7\n",
       "4    1950   JJ    0              5\n",
       "..    ...  ...  ...            ...\n",
       "730  2022   MM   12           3812\n",
       "731  2022   KW    4           8521\n",
       "732  2022   JJ    0          31227\n",
       "733  2023   MM    1           3386\n",
       "734  2023   MM    2           3057\n",
       "\n",
       "[735 rows x 4 columns]"
      ]
     },
     "execution_count": 36,
     "metadata": {},
     "output_type": "execute_result"
    }
   ],
   "source": [
    "df = df0.Periods.str.split(r'(JJ|MM|KW)', regex=True, expand=True)  # expand=True forces the result into\n",
    "                                                                        # a DataFrame\n",
    "df = pd.DataFrame({'year': df[0].astype(int),                 # Create DataFrame {year,term,idx}\n",
    "                        'term': df[1],\n",
    "                        'idx': df[2].astype(int)})\n",
    "\n",
    "df = pd.concat([df,cbs[['TotalSupply_1']]],axis=1)\n",
    "df"
   ]
  },
  {
   "cell_type": "markdown",
   "metadata": {
    "collapsed": false
   },
   "source": [
    "1) Write a function given a Series with {year,term,idx} returns a timestamp according to the following specification:\n",
    "\n",
    "```\n",
    "JJ : yyyyJJ00 => 31-12-yyyy\n",
    "KW : yyyyKWmm => where mm in {1,2,3,4}\n",
    "                 01: 1-1-yyyy to 31-3-yyyy\n",
    "                 02: 1-4-yyyy to 30-6-yyyy\n",
    "                 03: 1-7-yyyy to 30-9-yyyy\n",
    "                 04: 1-10-yyyy to 31-12-yyyy\n",
    "MM : yyyyMMmm => dd-mm-yyyy where dd is the last day of the month and\n",
    "                 mm in {1,..,12}\n",
    "```\n",
    "\n",
    "2) Create a new DataFrame called `ngc` (natural gas consumption) with three columns {term, date, consumption} :\n",
    "- term : {JJ,KW,MM}\n",
    "- date : timestamps as specified in the previous exercise\n",
    "- consumption: which is `TotalSupply_1` only renamed"
   ]
  },
  {
   "cell_type": "code",
   "execution_count": 38,
   "metadata": {
    "collapsed": false
   },
   "outputs": [
    {
     "name": "stderr",
     "output_type": "stream",
     "text": [
      "/var/folders/cg/m_jx2c8j1qv5_vy5_shhn8vw0000gn/T/ipykernel_52062/4254518445.py:4: UserWarning: Parsing dates in %d-%m-%Y format when dayfirst=False (the default) was specified. Pass `dayfirst=True` or specify a format to silence this warning.\n",
      "  return pd.to_datetime(f'31-12-{s.year}')\n"
     ]
    },
    {
     "data": {
      "text/html": [
       "<div>\n",
       "<style scoped>\n",
       "    .dataframe tbody tr th:only-of-type {\n",
       "        vertical-align: middle;\n",
       "    }\n",
       "\n",
       "    .dataframe tbody tr th {\n",
       "        vertical-align: top;\n",
       "    }\n",
       "\n",
       "    .dataframe thead th {\n",
       "        text-align: right;\n",
       "    }\n",
       "</style>\n",
       "<table border=\"1\" class=\"dataframe\">\n",
       "  <thead>\n",
       "    <tr style=\"text-align: right;\">\n",
       "      <th></th>\n",
       "      <th>term</th>\n",
       "      <th>date</th>\n",
       "      <th>consumption</th>\n",
       "    </tr>\n",
       "  </thead>\n",
       "  <tbody>\n",
       "    <tr>\n",
       "      <th>0</th>\n",
       "      <td>JJ</td>\n",
       "      <td>1946-12-31</td>\n",
       "      <td>0</td>\n",
       "    </tr>\n",
       "    <tr>\n",
       "      <th>1</th>\n",
       "      <td>JJ</td>\n",
       "      <td>1947-12-31</td>\n",
       "      <td>1</td>\n",
       "    </tr>\n",
       "    <tr>\n",
       "      <th>2</th>\n",
       "      <td>JJ</td>\n",
       "      <td>1948-12-31</td>\n",
       "      <td>5</td>\n",
       "    </tr>\n",
       "    <tr>\n",
       "      <th>3</th>\n",
       "      <td>JJ</td>\n",
       "      <td>1949-12-31</td>\n",
       "      <td>7</td>\n",
       "    </tr>\n",
       "    <tr>\n",
       "      <th>4</th>\n",
       "      <td>JJ</td>\n",
       "      <td>1950-12-31</td>\n",
       "      <td>5</td>\n",
       "    </tr>\n",
       "    <tr>\n",
       "      <th>...</th>\n",
       "      <td>...</td>\n",
       "      <td>...</td>\n",
       "      <td>...</td>\n",
       "    </tr>\n",
       "    <tr>\n",
       "      <th>730</th>\n",
       "      <td>MM</td>\n",
       "      <td>2022-01-12</td>\n",
       "      <td>3812</td>\n",
       "    </tr>\n",
       "    <tr>\n",
       "      <th>731</th>\n",
       "      <td>KW</td>\n",
       "      <td>2022-01-10</td>\n",
       "      <td>8521</td>\n",
       "    </tr>\n",
       "    <tr>\n",
       "      <th>732</th>\n",
       "      <td>JJ</td>\n",
       "      <td>2022-12-31</td>\n",
       "      <td>31227</td>\n",
       "    </tr>\n",
       "    <tr>\n",
       "      <th>733</th>\n",
       "      <td>MM</td>\n",
       "      <td>2023-01-01</td>\n",
       "      <td>3386</td>\n",
       "    </tr>\n",
       "    <tr>\n",
       "      <th>734</th>\n",
       "      <td>MM</td>\n",
       "      <td>2023-01-02</td>\n",
       "      <td>3057</td>\n",
       "    </tr>\n",
       "  </tbody>\n",
       "</table>\n",
       "<p>735 rows × 3 columns</p>\n",
       "</div>"
      ],
      "text/plain": [
       "    term       date  consumption\n",
       "0     JJ 1946-12-31            0\n",
       "1     JJ 1947-12-31            1\n",
       "2     JJ 1948-12-31            5\n",
       "3     JJ 1949-12-31            7\n",
       "4     JJ 1950-12-31            5\n",
       "..   ...        ...          ...\n",
       "730   MM 2022-01-12         3812\n",
       "731   KW 2022-01-10         8521\n",
       "732   JJ 2022-12-31        31227\n",
       "733   MM 2023-01-01         3386\n",
       "734   MM 2023-01-02         3057\n",
       "\n",
       "[735 rows x 3 columns]"
      ]
     },
     "execution_count": 38,
     "metadata": {},
     "output_type": "execute_result"
    }
   ],
   "source": [
    "# function to convert {year,term,idx} to timestamp\n",
    "def convert_to_timestamp(s):\n",
    "    if s.term == 'JJ':\n",
    "        return pd.to_datetime(f'31-12-{s.year}')\n",
    "    if s.term == 'KW':\n",
    "        if s.idx == 1:\n",
    "            return pd.to_datetime(f'1-1-{s.year}')\n",
    "        if s.idx == 2:\n",
    "            return pd.to_datetime(f'1-4-{s.year}')\n",
    "        if s.idx == 3:\n",
    "            return pd.to_datetime(f'1-7-{s.year}')\n",
    "        if s.idx == 4:\n",
    "            return pd.to_datetime(f'1-10-{s.year}')\n",
    "    if s.term == 'MM':\n",
    "        return pd.to_datetime(f'1-{s.idx+1}-{s.year}') - pd.DateOffset(days=1)\n",
    "\n",
    "# create ngc\n",
    "ngc = pd.DataFrame({'term': df.term,\n",
    "                    'date': df.apply(convert_to_timestamp, axis=1),\n",
    "                    'consumption': df.TotalSupply_1})\n",
    "ngc"
   ]
  },
  {
   "cell_type": "markdown",
   "metadata": {
    "collapsed": false
   },
   "source": [
    "Validate entries in the ngc DataFrame from the previous step:\n",
    "- whether sum of 3 months consumptions are equal to the corresponding quarterly entries(KW)\n",
    "- whether sum of 4 quarters addup to the yearly (JJ) entries"
   ]
  },
  {
   "cell_type": "code",
   "execution_count": 46,
   "metadata": {
    "collapsed": false
   },
   "outputs": [
    {
     "data": {
      "text/plain": [
       "date  date\n",
       "1946  4           0\n",
       "1947  4           1\n",
       "1948  4           5\n",
       "1949  4           7\n",
       "1950  4           5\n",
       "              ...  \n",
       "2021  1       80266\n",
       "      4       40134\n",
       "2022  1       62454\n",
       "      4       31227\n",
       "2023  1        6443\n",
       "Name: consumption, Length: 119, dtype: int64"
      ]
     },
     "execution_count": 46,
     "metadata": {},
     "output_type": "execute_result"
    }
   ],
   "source": [
    "# check whether sum of 3 months consumptions are equal to the corresoinding quarterly entires (KW)\n",
    "ngc['consumption'].groupby([ngc.date.dt.year, ngc.date.dt.quarter]).sum()\n"
   ]
  },
  {
   "cell_type": "code",
   "execution_count": 47,
   "metadata": {},
   "outputs": [
    {
     "data": {
      "text/plain": [
       "0     2 \n",
       "1946  0        0\n",
       "1947  0        1\n",
       "1948  0        5\n",
       "1949  0        7\n",
       "1950  0        5\n",
       "            ... \n",
       "2022  10    2094\n",
       "      11    2616\n",
       "      12    3812\n",
       "2023  1     3386\n",
       "      2     3057\n",
       "Name: TotalSupply_1, Length: 571, dtype: int64"
      ]
     },
     "execution_count": 47,
     "metadata": {},
     "output_type": "execute_result"
    }
   ],
   "source": [
    "cbs['TotalSupply_1'].groupby([cbs.Periods.str.split(r'(JJ|MM|KW)', regex=True, expand=True)[0].astype(int),\n",
    "                              cbs.Periods.str.split(r'(JJ|MM|KW)', regex=True, expand=True)[2].astype(int)]).sum()"
   ]
  }
 ],
 "metadata": {
  "kernelspec": {
   "display_name": "Python 3",
   "language": "python",
   "name": "python3"
  },
  "language_info": {
   "codemirror_mode": {
    "name": "ipython",
    "version": 3
   },
   "file_extension": ".py",
   "mimetype": "text/x-python",
   "name": "python",
   "nbconvert_exporter": "python",
   "pygments_lexer": "ipython3",
   "version": "3.10.2"
  }
 },
 "nbformat": 4,
 "nbformat_minor": 0
}

{
 "cells": [
  {
   "cell_type": "markdown",
   "metadata": {
    "collapsed": false
   },
   "source": [
    "## Exercises"
   ]
  },
  {
   "cell_type": "code",
   "execution_count": 1,
   "metadata": {
    "collapsed": false
   },
   "outputs": [],
   "source": [
    "import numpy as np"
   ]
  },
  {
   "cell_type": "markdown",
   "metadata": {
    "collapsed": false
   },
   "source": [
    "### Create arrays"
   ]
  },
  {
   "cell_type": "markdown",
   "metadata": {
    "collapsed": false
   },
   "source": [
    "- 1-dimensional array over the range 11, 14, 17, 20, ..., 50. In addition show the type, size, shape and number of dimensions of the array."
   ]
  },
  {
   "cell_type": "code",
   "execution_count": 2,
   "metadata": {
    "collapsed": false
   },
   "outputs": [
    {
     "name": "stdout",
     "output_type": "stream",
     "text": [
      "[11 14 17 20 23 26 29 32 35 38 41 44 47 50]\n",
      "int64\n",
      "14\n",
      "(14,)\n",
      "1\n"
     ]
    }
   ],
   "source": [
    "# 1-dimensional array over the range 11, 14, 17, 20, ..., 50. In addition show the type, size, shape and number of dimensions of the array.\n",
    "a = np.arange(11, 51, 3)\n",
    "print(a)\n",
    "print(a.dtype)\n",
    "print(a.size)\n",
    "print(a.shape)\n",
    "print(a.ndim)"
   ]
  },
  {
   "cell_type": "markdown",
   "metadata": {
    "collapsed": false
   },
   "source": [
    "- 2-dimensional array of boolean type with shape=(5,3) and all set to True."
   ]
  },
  {
   "cell_type": "code",
   "execution_count": 3,
   "metadata": {
    "collapsed": false
   },
   "outputs": [
    {
     "name": "stdout",
     "output_type": "stream",
     "text": [
      "[[ True  True  True]\n",
      " [ True  True  True]\n",
      " [ True  True  True]\n",
      " [ True  True  True]\n",
      " [ True  True  True]]\n",
      "bool\n",
      "15\n",
      "(5, 3)\n",
      "2\n"
     ]
    }
   ],
   "source": [
    "# 2-dimensional array of boolean type with shape=(5,3) and all set to True.\n",
    "b = np.full((5, 3), True, dtype=bool)\n",
    "print(b)\n",
    "print(b.dtype)\n",
    "print(b.size)\n",
    "print(b.shape)\n",
    "print(b.ndim)"
   ]
  },
  {
   "cell_type": "markdown",
   "metadata": {
    "collapsed": false
   },
   "source": [
    "- 2-dimensional array of shape=(9,3) of the alphabet a..z. Pad with empty string \"\" to fit the shape."
   ]
  },
  {
   "cell_type": "code",
   "execution_count": 5,
   "metadata": {
    "collapsed": false
   },
   "outputs": [
    {
     "name": "stdout",
     "output_type": "stream",
     "text": [
      "[['a' 'b' 'c']\n",
      " ['d' 'e' 'f']\n",
      " ['g' 'h' 'i']\n",
      " ['j' 'k' 'l']\n",
      " ['m' 'n' 'o']\n",
      " ['p' 'q' 'r']\n",
      " ['s' 't' 'u']\n",
      " ['v' 'w' 'x']\n",
      " ['y' 'z' '{']]\n",
      "<U1\n",
      "27\n",
      "(9, 3)\n",
      "2\n",
      "b\n"
     ]
    }
   ],
   "source": [
    " # 2-dimensional array of shape=(9,3) of the alphabet a..z. Pad with empty string \"\" to fit the shape.\n",
    "c = np.array([chr(i) for i in range(97, 124)]).reshape(9, 3)\n",
    "print(c)\n",
    "print(c.dtype)\n",
    "print(c.size)\n",
    "print(c.shape)\n",
    "print(c.ndim)\n",
    "print(chr(98))"
   ]
  },
  {
   "cell_type": "markdown",
   "metadata": {
    "collapsed": false
   },
   "source": [
    "- 2-dimensional array of shape=(5,6) filled with '***'. Hint: see *numpy.full*."
   ]
  },
  {
   "cell_type": "code",
   "execution_count": 6,
   "metadata": {
    "collapsed": false
   },
   "outputs": [
    {
     "name": "stdout",
     "output_type": "stream",
     "text": [
      "[['***' '***' '***' '***' '***' '***']\n",
      " ['***' '***' '***' '***' '***' '***']\n",
      " ['***' '***' '***' '***' '***' '***']\n",
      " ['***' '***' '***' '***' '***' '***']\n",
      " ['***' '***' '***' '***' '***' '***']]\n",
      "<U3\n",
      "30\n",
      "(5, 6)\n",
      "2\n"
     ]
    }
   ],
   "source": [
    "# 2-dimensional array of shape=(5,6) filled with '***'. Hint: see *numpy.full*.\n",
    "d = np.full((5, 6), '***')\n",
    "print(d)\n",
    "print(d.dtype)\n",
    "print(d.size)\n",
    "print(d.shape)\n",
    "print(d.ndim)"
   ]
  },
  {
   "cell_type": "markdown",
   "metadata": {
    "collapsed": false
   },
   "source": [
    "## Array indices\n",
    "\n",
    "The exercises below cover array access an assignments using indices."
   ]
  },
  {
   "cell_type": "markdown",
   "metadata": {
    "collapsed": false
   },
   "source": [
    "- Given the 2-dimensional array *arr2d* below, fetch the following elements\n",
    "    - fetch single elements:  'a', 'f'\n",
    "    - fetch [c,d] on axis-0\n",
    "    - fetch [b,d,f] on axis-1"
   ]
  },
  {
   "cell_type": "code",
   "execution_count": 8,
   "metadata": {
    "collapsed": false
   },
   "outputs": [
    {
     "name": "stdout",
     "output_type": "stream",
     "text": [
      "[['a' 'b']\n",
      " ['c' 'd']\n",
      " ['e' 'f']]\n",
      "a f\n",
      "['c' 'd']\n",
      "['b' 'd' 'f']\n"
     ]
    }
   ],
   "source": [
    "arr2d = np.array(list(\"abcdef\")).reshape(3,2)\n",
    "print(arr2d)\n",
    "print(arr2d[0, 0], arr2d[2, 1])\n",
    "print(arr2d[1, :])\n",
    "print(arr2d[:, 1])"
   ]
  },
  {
   "cell_type": "markdown",
   "metadata": {
    "collapsed": false
   },
   "source": [
    "- Given the 3-dimensional array arr3d:\n",
    "    - fetch:\n",
    "        - [[19,20],[22,23]]\n",
    "        - [[9,12,15],[11,14,17]]\n",
    "    - swap\n",
    "        - on axis-0 the 2nd and the 3rd elements\n",
    "        - the 1st and the 3rd element of all elements on axis-0\n",
    "        - repeat the previous swap but now only on the 1st element of axis-0"
   ]
  },
  {
   "cell_type": "code",
   "execution_count": 31,
   "metadata": {
    "collapsed": false
   },
   "outputs": [
    {
     "name": "stdout",
     "output_type": "stream",
     "text": [
      "[[[ 0  1  2]\n",
      "  [ 3  4  5]\n",
      "  [ 6  7  8]]\n",
      "\n",
      " [[ 9 10 11]\n",
      "  [12 13 14]\n",
      "  [15 16 17]]\n",
      "\n",
      " [[18 19 20]\n",
      "  [21 22 23]\n",
      "  [24 25 26]]]\n",
      "[[19 20]\n",
      " [22 23]]\n",
      "[[ 9 11]\n",
      " [12 14]\n",
      " [15 17]]\n",
      "[[[18 19 20]\n",
      "  [21 22 23]\n",
      "  [24 25 26]]\n",
      "\n",
      " [[ 9 10 11]\n",
      "  [12 13 14]\n",
      "  [15 16 17]]\n",
      "\n",
      " [[ 0  1  2]\n",
      "  [ 3  4  5]\n",
      "  [ 6  7  8]]]\n",
      "[[[ 0  1  2]\n",
      "  [ 3  4  5]\n",
      "  [ 6  7  8]]\n",
      "\n",
      " [[18 19 20]\n",
      "  [21 22 23]\n",
      "  [24 25 26]]\n",
      "\n",
      " [[ 9 10 11]\n",
      "  [12 13 14]\n",
      "  [15 16 17]]]\n"
     ]
    }
   ],
   "source": [
    "arr3d = np.arange(3*3*3).reshape(3,3,3)\n",
    "print(arr3d)\n",
    "print(arr3d[2, 0:2, 1:])\n",
    "print(arr3d[1, :, ::2])\n",
    "print(arr3d[[2, 1, 0], :, :])\n",
    "print(arr3d[[0, 2, 1], :, :])"
   ]
  },
  {
   "cell_type": "markdown",
   "metadata": {
    "collapsed": false
   },
   "source": [
    "- Implement the function *identity(n)* that generates the identity matrix of size *n*."
   ]
  },
  {
   "cell_type": "code",
   "execution_count": 32,
   "metadata": {
    "collapsed": false
   },
   "outputs": [],
   "source": [
    "def identity(n):\n",
    "    \"\"\"\n",
    "    :param n:\n",
    "    :return: identity matrix of size n\n",
    "    \"\"\"\n",
    "    return np.identity(n)"
   ]
  },
  {
   "cell_type": "markdown",
   "metadata": {
    "collapsed": false
   },
   "source": [
    "- 3-dimensional array of shape=(3,2,3) of the range *0..n*. Set the odd values to -1."
   ]
  },
  {
   "cell_type": "code",
   "execution_count": 34,
   "metadata": {
    "collapsed": false
   },
   "outputs": [
    {
     "name": "stdout",
     "output_type": "stream",
     "text": [
      "[[[ 0  1  2]\n",
      "  [ 3  4  5]]\n",
      "\n",
      " [[ 6  7  8]\n",
      "  [ 9 10 11]]\n",
      "\n",
      " [[12 13 14]\n",
      "  [15 16 17]]]\n",
      "[[[ 0 -1  2]\n",
      "  [-1  4 -1]]\n",
      "\n",
      " [[ 6 -1  8]\n",
      "  [-1 10 -1]]\n",
      "\n",
      " [[12 -1 14]\n",
      "  [-1 16 -1]]]\n"
     ]
    }
   ],
   "source": [
    "arr = np.arange(18).reshape(3, 2, 3)\n",
    "print(arr)\n",
    "arr[arr % 2 != 0] = -1\n",
    "print(arr)\n"
   ]
  },
  {
   "cell_type": "markdown",
   "metadata": {
    "collapsed": false
   },
   "source": [
    "- produce the following array (ref: numpy.repeat, numpy.tile) :\n",
    "\n",
    " <tt> [5, 5, 5, 3, 3, 3, 5, 7, 5, 7, 5, 7]</tt>"
   ]
  },
  {
   "cell_type": "code",
   "execution_count": 41,
   "metadata": {
    "collapsed": false
   },
   "outputs": [
    {
     "name": "stdout",
     "output_type": "stream",
     "text": [
      "[5 5 5 3 3 3 7 7 7 5 7 5 7 5 7]\n"
     ]
    }
   ],
   "source": [
    "# - produce the following array (ref: numpy.repeat, numpy.tile) :\n",
    "# [5, 5, 5, 3, 3, 3, 5, 7, 5, 7, 5, 7]\n",
    "arr = np.array([5, 3, 7])\n",
    "print(np.r_[np.repeat(arr, 3), np.tile(arr[0:3:2], 3)])\n",
    "\n"
   ]
  },
  {
   "cell_type": "markdown",
   "metadata": {
    "collapsed": false
   },
   "source": [
    "## Random generator"
   ]
  },
  {
   "cell_type": "code",
   "execution_count": 42,
   "metadata": {
    "collapsed": false
   },
   "outputs": [],
   "source": [
    "from numpy.random import default_rng\n",
    "rng = default_rng(1234)"
   ]
  },
  {
   "cell_type": "markdown",
   "metadata": {
    "collapsed": false
   },
   "source": [
    "Create a 1-dimensional array of random integers, range [0,100), of size 20. Test (True or False) whether the array contains any odd integers. Finally, count the number of odd integers."
   ]
  },
  {
   "cell_type": "code",
   "execution_count": 43,
   "metadata": {
    "collapsed": false
   },
   "outputs": [
    {
     "name": "stdout",
     "output_type": "stream",
     "text": [
      "[97 97 98 38 17 92 10 26 13 31 53 11 79 24 78 31 79 96 95 26]\n",
      "True\n",
      "11\n"
     ]
    }
   ],
   "source": [
    "arr = rng.integers(0, 100, 20)\n",
    "print(arr)\n",
    "print(np.any(arr % 2 != 0)) # True if any element is odd\n",
    "print(np.sum(arr % 2 != 0)) # number of odd elements"
   ]
  },
  {
   "cell_type": "markdown",
   "metadata": {
    "collapsed": false
   },
   "source": [
    "## Summary\n",
    "\n",
    "1. Create a two-dimensional array of random integers over the range [0,100) with shape (8,4).\n",
    "2. Calculate the following summaries on axis=0:\n",
    "\n",
    "    - minimum, maximum, mean and median\n",
    "    - 1st and 3rd quartile.\n",
    "\n",
    "3. Write the function *summary* which takes a 2-dimensional array as input and produces an R like summary as shone below:\n",
    "\n",
    "```\n",
    "       0              1               2               3\n",
    " Min.   :13.0   Min.   :24.00   Min.   :10.00   Min.   :11.00\n",
    " 1st Qu.:42.5   1st Qu.:40.75   1st Qu.:46.00   1st Qu.:26.00\n",
    " Median :67.0   Median :76.50   Median :71.00   Median :34.50\n",
    " Mean   :60.0   Mean   :67.12   Mean   :64.75   Mean   :42.88\n",
    " 3rd Qu.:81.5   3rd Qu.:93.00   3rd Qu.:95.00   3rd Qu.:61.25\n",
    " Max.   :97.0   Max.   :97.00   Max.   :98.00   Max.   :86.00\n",
    "```"
   ]
  },
  {
   "cell_type": "code",
   "execution_count": 44,
   "metadata": {
    "collapsed": false
   },
   "outputs": [
    {
     "name": "stdout",
     "output_type": "stream",
     "text": [
      "[[55 44 25 60]\n",
      " [89 86 64 86]\n",
      " [51 67 95 65]\n",
      " [ 4 73 73 22]\n",
      " [86 17 78 87]\n",
      " [48  6 16 68]\n",
      " [ 4 67 13 61]\n",
      " [54  6 17 97]]\n",
      "[ 4  6 13 22]\n",
      "[89 86 95 97]\n",
      "[48.875 45.75  47.625 68.25 ]\n",
      "[52.5 55.5 44.5 66.5]\n",
      "[37.   14.25 16.75 60.75]\n",
      "[62.75 68.5  74.25 86.25]\n",
      "       0              1               2               3\n",
      "Min.   :4.0   Min.   :6.00   Min.   :13.00   Min.   :22.00\n",
      "1st Qu.:37.0   1st Qu.:14.25   1st Qu.:16.75   1st Qu.:60.75\n",
      "Median :52.5   Median :55.50   Median :44.50   Median :66.50\n",
      "Mean   :48.9   Mean   :45.75   Mean   :47.62   Mean   :68.25\n",
      "3rd Qu.:62.8   3rd Qu.:68.50   3rd Qu.:74.25   3rd Qu.:86.25\n",
      "Max.   :89.0   Max.   :86.00   Max.   :95.00   Max.   :97.00\n",
      "               0         1          2          3\n",
      "count   8.000000   8.00000   8.000000   8.000000\n",
      "mean   48.875000  45.75000  47.625000  68.250000\n",
      "std    31.813912  32.19472  33.226227  23.187127\n",
      "min     4.000000   6.00000  13.000000  22.000000\n",
      "25%    37.000000  14.25000  16.750000  60.750000\n",
      "50%    52.500000  55.50000  44.500000  66.500000\n",
      "75%    62.750000  68.50000  74.250000  86.250000\n",
      "max    89.000000  86.00000  95.000000  97.000000\n"
     ]
    }
   ],
   "source": [
    "arr = rng.integers(0, 100, (8, 4))\n",
    "print(arr)\n",
    "\n",
    "print(np.min(arr, axis=0))\n",
    "print(np.max(arr, axis=0))\n",
    "print(np.mean(arr, axis=0))\n",
    "print(np.median(arr, axis=0))\n",
    "print(np.percentile(arr, 25, axis=0))\n",
    "print(np.percentile(arr, 75, axis=0))\n",
    "\n",
    "def summary(arr):\n",
    "    print(\"       0              1               2               3\")\n",
    "    print(f\"Min.   :{np.min(arr[:, 0]):.1f}   Min.   :{np.min(arr[:, 1]):.2f}   Min.   :{np.min(arr[:, 2]):.2f}   Min.   :{np.min(arr[:, 3]):.2f}\")\n",
    "    print(f\"1st Qu.:{np.percentile(arr[:, 0], 25):.1f}   1st Qu.:{np.percentile(arr[:, 1], 25):.2f}   1st Qu.:{np.percentile(arr[:, 2], 25):.2f}   1st Qu.:{np.percentile(arr[:, 3], 25):.2f}\")\n",
    "    print(f\"Median :{np.median(arr[:, 0]):.1f}   Median :{np.median(arr[:, 1]):.2f}   Median :{np.median(arr[:, 2]):.2f}   Median :{np.median(arr[:, 3]):.2f}\")\n",
    "    print(f\"Mean   :{np.mean(arr[:, 0]):.1f}   Mean   :{np.mean(arr[:, 1]):.2f}   Mean   :{np.mean(arr[:, 2]):.2f}   Mean   :{np.mean(arr[:, 3]):.2f}\")\n",
    "    print(f\"3rd Qu.:{np.percentile(arr[:, 0], 75):.1f}   3rd Qu.:{np.percentile(arr[:, 1], 75):.2f}   3rd Qu.:{np.percentile(arr[:, 2], 75):.2f}   3rd Qu.:{np.percentile(arr[:, 3], 75):.2f}\")\n",
    "    print(f\"Max.   :{np.max(arr[:, 0]):.1f}   Max.   :{np.max(arr[:, 1]):.2f}   Max.   :{np.max(arr[:, 2]):.2f}   Max.   :{np.max(arr[:, 3]):.2f}\")\n",
    "\n",
    "summary(arr)\n",
    "\n",
    "# Or using pandas\n",
    "import pandas as pd\n",
    "df = pd.DataFrame(arr)\n",
    "print(df.describe())\n"
   ]
  },
  {
   "cell_type": "markdown",
   "metadata": {
    "collapsed": false
   },
   "source": [
    "## Matrix multiplication\n",
    "\n",
    "Implement function *mat_mult* which takes two 2-dimensional arrays and produces their product. Compare your results with the NumPy built-in operator '@'. Make sure that the function raises and exception if the matrix dimensions are incompatible."
   ]
  },
  {
   "cell_type": "code",
   "execution_count": 45,
   "metadata": {
    "collapsed": false
   },
   "outputs": [
    {
     "name": "stdout",
     "output_type": "stream",
     "text": [
      "[[ 58  64]\n",
      " [139 154]]\n",
      "[[ 58  64]\n",
      " [139 154]]\n"
     ]
    }
   ],
   "source": [
    "def mat_mul(m1,m2):\n",
    "    \"\"\"\n",
    "    Carry out matrix multiplication on m1 and m2. Raise error if the m1 and m2 are\n",
    "    not compatible for multiplication.\n",
    "\n",
    "    :param m1: 2-dimensional array\n",
    "    :param m2: 2-dimensional array\n",
    "    :return: m1 multiplied by m2\n",
    "    \"\"\"\n",
    "    if m1.shape[1] != m2.shape[0]:\n",
    "        raise ValueError(\"Incompatible dimensions\")\n",
    "    return np.dot(m1, m2)\n",
    "\n",
    "m1 = np.array([[1, 2, 3], [4, 5, 6]])\n",
    "m2 = np.array([[7, 8], [9, 10], [11, 12]])\n",
    "print(mat_mul(m1, m2))\n",
    "print(m1@m2) "
   ]
  },
  {
   "cell_type": "markdown",
   "metadata": {
    "collapsed": false
   },
   "source": [
    "## Covariance matrix\n",
    "\n",
    "Calculate the covariance matrix between two or more random variables:\n",
    "\n",
    "**Synopsis:** <tt>cov(x_1,...,x_n)</tt>\n",
    "   - input: x_1,..,x_n random variables\n",
    "   - return: nxn symmetric array\n",
    "\n",
    "The covariance $cov(X,Y) = E[XY] - E[X]E[Y]$.\n",
    "\n",
    "**Data** We first generate the random variables X and Y with from a joint normal distribution given the means and covariance matrix. This can be done with *.random.multivariate_normal*:"
   ]
  },
  {
   "cell_type": "code",
   "execution_count": 46,
   "metadata": {
    "collapsed": false
   },
   "outputs": [],
   "source": [
    "cov = np.array([[1.5, .6], [ .6, .5]])  # covariance matrix\n",
    "X, Y = rng.multivariate_normal(mean=(0,0), cov=cov, size=5000).T # sample 5000"
   ]
  },
  {
   "cell_type": "markdown",
   "metadata": {
    "collapsed": false
   },
   "source": [
    "Here is the scatter plot of our data:"
   ]
  },
  {
   "cell_type": "code",
   "execution_count": 49,
   "metadata": {
    "collapsed": false
   },
   "outputs": [
    {
     "data": {
      "image/png": "[encoded data removed]",
      "text/plain": [
       "<Figure size 640x480 with 1 Axes>"
      ]
     },
     "metadata": {},
     "output_type": "display_data"
    }
   ],
   "source": [
    "import matplotlib.pyplot as plt\n",
    "plt.scatter(X, Y, alpha=.5, s=.5);"
   ]
  },
  {
   "cell_type": "markdown",
   "metadata": {
    "collapsed": false
   },
   "source": [
    "Implement the function cov and compare the results with NumPy built-in function *np.cov*."
   ]
  },
  {
   "cell_type": "code",
   "execution_count": 50,
   "metadata": {
    "collapsed": false
   },
   "outputs": [
    {
     "name": "stdout",
     "output_type": "stream",
     "text": [
      "[[1.50059185 0.59535548]\n",
      " [0.59535548 0.49996326]]\n"
     ]
    }
   ],
   "source": [
    "# *args represents set of arguments and is iterable. calls will look\n",
    "# like: cov(x), cov(x,y), cov(x,y,z), etc.\n",
    "#\n",
    "def cov(*args):\n",
    "    \"\"\"\n",
    "\n",
    "    :param args:\n",
    "    :return:\n",
    "    \"\"\"\n",
    "    return np.cov(args)\n",
    "\n",
    "print(cov(X, Y))"
   ]
  }
 ],
 "metadata": {
  "kernelspec": {
   "display_name": "Python 3",
   "language": "python",
   "name": "python3"
  },
  "language_info": {
   "codemirror_mode": {
    "name": "ipython",
    "version": 3
   },
   "file_extension": ".py",
   "mimetype": "text/x-python",
   "name": "python",
   "nbconvert_exporter": "python",
   "pygments_lexer": "ipython3",
   "version": "3.10.2"
  }
 },
 "nbformat": 4,
 "nbformat_minor": 0
}
